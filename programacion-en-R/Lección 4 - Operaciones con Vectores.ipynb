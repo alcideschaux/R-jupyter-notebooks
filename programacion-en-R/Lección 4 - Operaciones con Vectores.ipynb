{
 "cells": [
  {
   "cell_type": "markdown",
   "metadata": {},
   "source": [
    "## Operaciones con Vectores\n",
    "\n",
    "La estructura de datos más simple y común en R es el vector. Para entender apropiadamente lo que es un vector, necesitamos primero entender lo que es un array (a veces traducido por \"arreglo\" o \"formación\").\n",
    "\n",
    "Un array es un tipo de dato estructurado que consiste en una colección de elementos (valores o variables), cada uno de ellos identificado por al menos un índice o clave. Por lo tanto, cada elemento consiste en una tupla, almacenándose tanto el valor del elemento como su posición.\n",
    "\n",
    "Un array puede tener *n* dimensiones. Por ejemplo, un array unidimensional contendrá una única colección de elementos ordenados, cada uno con su índice respectivo, es decir una 1-tupla. Un array bidimensional contendrá elementos ordenados en una 2-tupla, un array tridimensional en una 3-tupla, y así sucesivamente.\n",
    "\n",
    "Ahora ya estamos en posición de entender lo que es un vector! Un vector es nada más y nada menos que un array unidimensional. Es decir, una colección ordenada de elementos definidos por una 1-tupla.\n",
    "\n",
    "Existen dos tipos de vectores, vectores atómicos y listas. Un vector atómico contiene la misma clase de datos, mientras que una lista puede contener distintas clases de datos. Exploraremos con más detalle los vectores atómicos antes de pasar a las listas.\n",
    "\n",
    "En lecciones previas hemos trabajo con vectores numéricos, un tipo de vector atómico, pero no el único tipo. Otros tipos de vectores atómicos incluyen lógicos, de cadena de caracteres, de números enteros, y complejos. En esta lección miraremos más de cerca a los vectores lógicos y de caracteres.\n",
    "\n",
    "Los vectores lógicos pueden contener los valores TRUE (\"verdadero\"), FALSE (\"falso\"), y NA (por \"not available\", es decir, no disponible). Estos valores son generados como resultado de condiciones lógicas. Experimentemos con algunas condiciones simples.\n",
    "\n",
    "**Tarea:** Crea un vector numérico `vec` que contenga una mezcla de número enteros y fracciones, positivos y negativos."
   ]
  },
  {
   "cell_type": "code",
   "execution_count": null,
   "metadata": {
    "collapsed": true
   },
   "outputs": [],
   "source": []
  },
  {
   "cell_type": "markdown",
   "metadata": {},
   "source": [
    "**Tarea:** Crea una variable `fv` que contenga el resultado de `vec < 1`. Piensa en cuántos elementos tendrá `fv` antes de imprimir la variable, y luego imprímela en pantalla."
   ]
  },
  {
   "cell_type": "code",
   "execution_count": null,
   "metadata": {
    "collapsed": true
   },
   "outputs": [],
   "source": []
  },
  {
   "cell_type": "markdown",
   "metadata": {},
   "source": [
    "Notarás que la afirmación `vec < 1` es una condición, y que `fv` nos indica si cada elemento correspondiente de nuestro vector `vec` satisface esta condición.\n",
    "\n",
    "**Tarea:** Evalúa si `vec` es mayor o igual a 5 e interpreta el resultado."
   ]
  },
  {
   "cell_type": "code",
   "execution_count": null,
   "metadata": {
    "collapsed": true
   },
   "outputs": [],
   "source": []
  },
  {
   "cell_type": "markdown",
   "metadata": {},
   "source": [
    "Los símbolos `<` y `>=` en estos ejemplos son llamados *operadores lógicos*. Otros operados lógicos incluyen `>` (mayor), `<=` (menor o igual), `==` (equivalencia exacta), y `!=` (no equivalencia).\n",
    "\n",
    "Si tenemos 2 expresiones lógicas, A y B, podemos preguntar si al menos una es TRUE con `A | B` (operador *o* lógico, también llamado *unión*) o si ambas son TRUE con `A & B` (operador *y* lógico, también conocido como *intersección*). Por último, `!A` es la negación de A y es TRUE cuando A es FALSE y viceversa.\n",
    "\n",
    "Es una buena idea el pasar algún tiempo jugando con las varias combinaciones de estos operadores lógicos hasta que te sientas cómodo con su uso. Haremos algunos ejemplos para darte un empujón.\n",
    "\n",
    "**Tarea:** Intenta predecir correctamente el resultado de las siguientes operaciones:\n",
    "- `(3 > 5) & (4 == 4)`\n",
    "- `(TRUE == TRUE) | (TRUE == FALSE)`\n",
    "- `((111 >= 111) | !(TRUE)) & ((4 + 1) == 5)`"
   ]
  },
  {
   "cell_type": "code",
   "execution_count": null,
   "metadata": {
    "collapsed": true
   },
   "outputs": [],
   "source": []
  },
  {
   "cell_type": "markdown",
   "metadata": {},
   "source": [
    "No te preocupes si estas operaciones te fueron engorrosas! Se supone que lo sean. Toma práctica el trabajar con afirmaciones lógicas en R, pero tus esfuerzos serán recompensados en futuras lecciones (e.g., subagrupación y control de estructuras).\n",
    "\n",
    "Ahora dejemos atrás los vectores lógicos y pasemos a los vectores de (cadenas de) caracteres. Los vectores de caracteres son también muy comunes en R. Para construirlos, se concatenan elementos encerrados entre comillas dobles.\n",
    "\n",
    "**Tarea:** Crea un vector `caract` conteniendo 3 palabras."
   ]
  },
  {
   "cell_type": "code",
   "execution_count": null,
   "metadata": {
    "collapsed": true
   },
   "outputs": [],
   "source": []
  },
  {
   "cell_type": "markdown",
   "metadata": {},
   "source": [
    "Ahora mismo, `caract` es un vector de caracteres de longitud 3. Digamos que queremos unir los elementos de `caract` en una cadena continua de caracteres (i.e., un vector de caracteres de longitud 1). Podemos hacer esto con la función `paste()` y el argumento `collapse`.\n",
    "\n",
    "**Tarea:** Une los elementos de `caract` en una única cadena de caracteres."
   ]
  },
  {
   "cell_type": "code",
   "execution_count": null,
   "metadata": {
    "collapsed": true
   },
   "outputs": [],
   "source": []
  },
  {
   "cell_type": "markdown",
   "metadata": {},
   "source": [
    "Puedes agregar nuevos elementos a `caract` con la función `c()`.\n",
    "\n",
    "**Tarea:** Agrega un elemento a `caract` y luego une los caracteres en una única cadena."
   ]
  },
  {
   "cell_type": "code",
   "execution_count": null,
   "metadata": {
    "collapsed": true
   },
   "outputs": [],
   "source": []
  },
  {
   "cell_type": "markdown",
   "metadata": {},
   "source": [
    "Como vimos, podemos usar la función `paste()` para colapsar elementos de un vector de caracteres. Sin embargo, con `paste()` también podemos unir caracteres simples (i.e., vectores de caracteres de longitud 1) entre sí directamente. En este caso, tenemos que pasar el argumento `sep` a la función `paste()`.\n",
    "\n",
    "**Tarea:** Une dos caracteres entre sí, separados por un espacio simple, usando `paste()`."
   ]
  },
  {
   "cell_type": "code",
   "execution_count": null,
   "metadata": {
    "collapsed": true
   },
   "outputs": [],
   "source": []
  },
  {
   "cell_type": "markdown",
   "metadata": {},
   "source": [
    "Con `paste()` también se pueden unir vectores de > 1 longitud. Al igual que con los vectores numéricos, la operación de concatenación de caracteres está vectorizada. Apliquemos lo que vimos en las lecciones pasadas!\n",
    "\n",
    "**Tarea:** Crea 3 vectores, con las siguientes características:\n",
    "- `v2`: vector de caracteres de longitud 2\n",
    "- `v3`: vector numérico de longitud 3\n",
    "- `v4`: vector de caracteres de longitud 4"
   ]
  },
  {
   "cell_type": "code",
   "execution_count": null,
   "metadata": {
    "collapsed": true
   },
   "outputs": [],
   "source": []
  },
  {
   "cell_type": "markdown",
   "metadata": {},
   "source": [
    "Ahora veamos qué sucede al unir estos vectores!\n",
    "\n",
    "**Tarea:** Une `v2` y `v4`, separados por un guión."
   ]
  },
  {
   "cell_type": "code",
   "execution_count": null,
   "metadata": {
    "collapsed": true
   },
   "outputs": [],
   "source": []
  },
  {
   "cell_type": "markdown",
   "metadata": {},
   "source": [
    "**Tarea:** Ahora une `v2` y `v3`, sin separación."
   ]
  },
  {
   "cell_type": "code",
   "execution_count": null,
   "metadata": {
    "collapsed": true
   },
   "outputs": [],
   "source": []
  },
  {
   "cell_type": "markdown",
   "metadata": {},
   "source": [
    "Notas lo que ha sucedido con los elementos de `v3`? Esto se denomina *coacción* y es una propiedad a la que debemos prestar mucha atención!\n",
    "\n",
    "Y con esto finalizamos nuestra lección sobre operaciones con vectores. Felicidades! Hasta ahora hemos cubierto operaciones con vectores numéricos, lógicos, y de caracteres, con lo que cubrimos la mayor parte de este tipo de operaciones.\n",
    "\n",
    "En la siguiente lección trabajaremos con valores faltantes, otro tópico que necesitarás dominar para convertirte en un experto en R!"
   ]
  }
 ],
 "metadata": {
  "kernelspec": {
   "display_name": "R",
   "language": "R",
   "name": "ir"
  },
  "language_info": {
   "codemirror_mode": "r",
   "file_extension": ".r",
   "mimetype": "text/x-r-source",
   "name": "R",
   "pygments_lexer": "r",
   "version": "3.2.2"
  }
 },
 "nbformat": 4,
 "nbformat_minor": 0
}
