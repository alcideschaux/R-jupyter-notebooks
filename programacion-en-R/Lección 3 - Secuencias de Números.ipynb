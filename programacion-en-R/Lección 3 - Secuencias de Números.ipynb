{
 "cells": [
  {
   "cell_type": "markdown",
   "metadata": {},
   "source": [
    "## Secuencias de números\n",
    "En esta lección veremos cómo trabajar con secuencias de números en R. Una secuencia (también llamada sucesión) corresponde a un tipo especial de conjunto de elementos encadenados. Cada uno de estos elementos se denomina *término* y al número de elementos ordenados se le denomina *longitud* de la secuencia.\n",
    "\n",
    "Sin embargo, a diferencia de un conjunto convencional, el orden en que aparecen los términos sí es relevante y un mismo término puede aparecer en más de una posición. De manera formal, una secuencia puede definirse como una función sobre el conjunto de los números naturales (o un subconjunto del mismo) y es por tanto una función discreta.\n",
    "\n",
    "La forma más sencilla de crear una secuencia de números en R es con el operador `:` (dos puntos).\n",
    "\n",
    "**Tarea:** Crea una secuencia de números del 1 al 20."
   ]
  },
  {
   "cell_type": "code",
   "execution_count": null,
   "metadata": {
    "collapsed": true
   },
   "outputs": [],
   "source": []
  },
  {
   "cell_type": "markdown",
   "metadata": {},
   "source": [
    "**Tarea:** Crea una secuencia de pi a 10 e interpreta el resultado."
   ]
  },
  {
   "cell_type": "code",
   "execution_count": null,
   "metadata": {
    "collapsed": true
   },
   "outputs": [],
   "source": []
  },
  {
   "cell_type": "markdown",
   "metadata": {},
   "source": [
    "**Tarea:** Crea una secuencia de 15 a 1."
   ]
  },
  {
   "cell_type": "code",
   "execution_count": null,
   "metadata": {
    "collapsed": true
   },
   "outputs": [],
   "source": []
  },
  {
   "cell_type": "markdown",
   "metadata": {},
   "source": [
    "**Tarea:** Abre el archivo de ayuda para el operador `:`."
   ]
  },
  {
   "cell_type": "code",
   "execution_count": null,
   "metadata": {
    "collapsed": true
   },
   "outputs": [],
   "source": []
  },
  {
   "cell_type": "markdown",
   "metadata": {},
   "source": [
    "Muchas veces, necesitaremos tener más control sobre los elementos generados en la secuencia y el operador : será insuficiente. En estos casos, podemos usar la función `seq()`.\n",
    "\n",
    "**Tarea:** Crea una secuencia del 1 al 20 usando `seq()`."
   ]
  },
  {
   "cell_type": "code",
   "execution_count": null,
   "metadata": {
    "collapsed": true
   },
   "outputs": [],
   "source": []
  },
  {
   "cell_type": "markdown",
   "metadata": {},
   "source": [
    "Sin embargo, con `seq()` podemos definir no solo el primer y el último número de la secuencia, sino también el valor de los incrementos sucesivos. Esto lo hacemos especificando este valor con el argument `by`.\n",
    "\n",
    "**Tarea:** Crea una secuencia del 1 al 20 con incrementos de 0.5."
   ]
  },
  {
   "cell_type": "code",
   "execution_count": null,
   "metadata": {
    "collapsed": true
   },
   "outputs": [],
   "source": []
  },
  {
   "cell_type": "markdown",
   "metadata": {},
   "source": [
    "Además de especificar el valor del incremento con el argumento `by`, existen otros argumentos que puedes utilizar para crear una secuencia. Por ejemplo, si quieres crear una secuencia de `N` números, puedes utilizar el argumento `length`. \n",
    "\n",
    "**Tarea:** Crea una secuencia de 30 números del 5 al 10 y almacena la secuencia en una nueva variable. Imprime la variable en pantalla."
   ]
  },
  {
   "cell_type": "code",
   "execution_count": null,
   "metadata": {
    "collapsed": true
   },
   "outputs": [],
   "source": []
  },
  {
   "cell_type": "markdown",
   "metadata": {},
   "source": [
    "**Tarea:** Verifica que la variable creada tenga la longitud especificada."
   ]
  },
  {
   "cell_type": "code",
   "execution_count": null,
   "metadata": {
    "collapsed": true
   },
   "outputs": [],
   "source": []
  },
  {
   "cell_type": "markdown",
   "metadata": {},
   "source": [
    "Muchas veces, necesitaremos crear secuencias de una longitud que no conocemos de antemano. Por ejemplo, imagínate que no conoces la longitud de la secuencia que acabas de crear en la tarea anterior. Ahora, tu tarea es crear una nueva secuencia de números enteros de 1 a `N`, donde `N` representa la longitud de tu secuencia.\n",
    "\n",
    "Hay varias maneras de hacer ésto, una de ellas es con el operador `:` y otra es usando `seq()` con el argumento `along.with`.\n",
    "\n",
    "**Tarea:** Crea una secuencia de la misma longitud que la secuencia creada previamente, usando ambos métodos sugeridos previamente."
   ]
  },
  {
   "cell_type": "code",
   "execution_count": null,
   "metadata": {
    "collapsed": true
   },
   "outputs": [],
   "source": []
  },
  {
   "cell_type": "markdown",
   "metadata": {},
   "source": [
    "Como en muchas otras ocasiones, R tiene una función específica para llevar esto acabo. Puedes descubrir cuál función es ésta?\n",
    "\n",
    "**Tarea:** Crea una secuencia de la misma longitud que la secuencia creada previamente, usando una función dedicada de R."
   ]
  },
  {
   "cell_type": "code",
   "execution_count": null,
   "metadata": {
    "collapsed": true
   },
   "outputs": [],
   "source": []
  },
  {
   "cell_type": "markdown",
   "metadata": {},
   "source": [
    "Con frecuencia existen varios enfoques para resolver el mismo problema, particulamente en R. Enfoques simples que implican menos tipeado son generalmente mejores. Es también importante que tu código sea legible, de modo a que otros (y tu yo futuro!) puedan descubrir lo que está pasando sin mucho estrés.\n",
    "\n",
    "Si R tiene una función incluída para una tarea en particular, es probable que esa función esté altamente optimizada para ese propósito y sea tu mejor opción. A medida que te conviertas en un programador con más experiencia, diseñarás tus propias funciones para realizar tareas cuando no existen opciones mejores.\n",
    "\n",
    "Otra forma de crear secuencias es con la función `rep()`, que sirve para *rep*licar números. Revisa la ayuda de `rep()` y especialmente presta atención a los argumentos `times` e `each`. Cuando lo hayas hecho, prueba a ver si puedes resolver los siguientes desafíos!\n",
    "\n",
    "**Tarea:** Crea un vector que contenga 40 ceros usando la función `rep()`."
   ]
  },
  {
   "cell_type": "code",
   "execution_count": null,
   "metadata": {
    "collapsed": true
   },
   "outputs": [],
   "source": []
  },
  {
   "cell_type": "markdown",
   "metadata": {},
   "source": [
    "No estamos limitados a replicar números únicos, podemos replicar también vectores de mayor longitud!\n",
    "\n",
    "**Tarea:** Crea una secuencia de 10 repeticiones del vector `c(1, 2, 3)`."
   ]
  },
  {
   "cell_type": "code",
   "execution_count": null,
   "metadata": {
    "collapsed": true
   },
   "outputs": [],
   "source": []
  },
  {
   "cell_type": "markdown",
   "metadata": {},
   "source": [
    "Por último, imagínate que en vez de crear una secuencia de 10 repeticiones del vector `c(1, 2, 3)`, quieres crear una secuencia que contenga 10 veces el número 1, 10 veces el número 2, y 10 veces el número 3. En estos casos, el argumento `each` de `rep()` es lo estamos necesitando!\n",
    "\n",
    "**Tarea:** Crea una secuencia de 1s, 2s, y 3s, 10 veces cada uno."
   ]
  },
  {
   "cell_type": "code",
   "execution_count": null,
   "metadata": {
    "collapsed": true
   },
   "outputs": [],
   "source": []
  },
  {
   "cell_type": "markdown",
   "metadata": {},
   "source": [
    "Y con esto concluimos esta lección. En esta lección has aprendido cómo usar el operador `:` y las funciones `seq()`, `seq_along()`, y `rep()` junto con algunos de sus argumentos.\n",
    "\n",
    "Felicidades! Ya eres un experto en generación de secuencias de números en R! En nuestra siguiente lección, trabajaremos con vectores. Esto se pone cada vez más divertido!"
   ]
  }
 ],
 "metadata": {
  "kernelspec": {
   "display_name": "R",
   "language": "R",
   "name": "ir"
  },
  "language_info": {
   "codemirror_mode": "r",
   "file_extension": ".r",
   "mimetype": "text/x-r-source",
   "name": "R",
   "pygments_lexer": "r",
   "version": "3.2.2"
  }
 },
 "nbformat": 4,
 "nbformat_minor": 0
}
