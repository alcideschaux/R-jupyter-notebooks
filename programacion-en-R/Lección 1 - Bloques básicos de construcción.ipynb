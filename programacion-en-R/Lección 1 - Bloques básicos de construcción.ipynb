{
 "cells": [
  {
   "cell_type": "markdown",
   "metadata": {},
   "source": [
    "## Bloques básicos de construcción\n",
    "\n",
    "En su forma más simple, R puede ser usado como una calculadora interactiva.\n",
    "\n",
    "**Tarea:** Tipea una operación arimética básica."
   ]
  },
  {
   "cell_type": "code",
   "execution_count": null,
   "metadata": {
    "collapsed": true
   },
   "outputs": [],
   "source": []
  },
  {
   "cell_type": "markdown",
   "metadata": {},
   "source": [
    "Como puedes ver, R imprime el resultado de la operación dada. Sin embargo, R es un lenguaje de  programación y a menudo la razón por la que usamos un lenguaje de programación (en vez de una calculadora) es para automatizar algunos procesos o evitar repeticiones innecesarias.\n",
    "\n",
    "En este caso, podríamos querer usar nuestro resultado anterior en un segundo cálculo. En vez de retipearla operación cada vez que lo necesitemos, podemos simplemente crear una nueva variable que almacene ese resultado. La forma en que asignas un valor a una variable en R es mediante el operador de asignación, que es simplemente un símbolo de \"menos que\" seguido por un signo \"menos\". Se ve así: `<-` Piensa en el operador de asignación como si fuese una flecha. Estás asignando el valor del lado derecho de la flecha al nombre de la variable en el lado izquierdo de la flecha.\n",
    "\n",
    "**Tarea:** Asigna la operación a una variable llamada `x`."
   ]
  },
  {
   "cell_type": "code",
   "execution_count": null,
   "metadata": {
    "collapsed": true
   },
   "outputs": [],
   "source": []
  },
  {
   "cell_type": "markdown",
   "metadata": {},
   "source": [
    "R no imprime el resultado de la operación esta vez. Cuando usas el operador de asignación, R asume que no quieres ver el resultado inmediatamente, sino que pretendes usar el resultado para algo más adelante. Para visualizar el contenido de la variable, simplemente tipea el nombre de la variable y presiona Enter.\n",
    "\n",
    "**Tarea:** Imprime el resultado contenido en la variable `x`."
   ]
  },
  {
   "cell_type": "code",
   "execution_count": null,
   "metadata": {
    "collapsed": false
   },
   "outputs": [],
   "source": []
  },
  {
   "cell_type": "markdown",
   "metadata": {},
   "source": [
    "**Tarea:** almacena el resultado de `x - 3` en una nueva variable llamada `y`."
   ]
  },
  {
   "cell_type": "code",
   "execution_count": null,
   "metadata": {
    "collapsed": true
   },
   "outputs": [],
   "source": []
  }
 ],
 "metadata": {
  "kernelspec": {
   "display_name": "R",
   "language": "R",
   "name": "ir"
  },
  "language_info": {
   "codemirror_mode": "r",
   "file_extension": ".r",
   "mimetype": "text/x-r-source",
   "name": "R",
   "pygments_lexer": "r",
   "version": "3.2.2"
  }
 },
 "nbformat": 4,
 "nbformat_minor": 0
}
