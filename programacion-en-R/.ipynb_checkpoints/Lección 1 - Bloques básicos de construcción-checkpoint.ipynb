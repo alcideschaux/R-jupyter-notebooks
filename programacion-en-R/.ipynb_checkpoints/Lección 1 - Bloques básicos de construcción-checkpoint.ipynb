{
 "cells": [
  {
   "cell_type": "markdown",
   "metadata": {},
   "source": [
    "## Lección 1 - Bloques básicos de construcción\n",
    "\n",
    "En su forma más simple, R puede ser usado como una calculadora interactiva. Los operadores aritméticos básicos son los siguientes:\n",
    "- suma: `+`\n",
    "- resta: `-`\n",
    "- multiplicación: `*`\n",
    "- división: `/`\n",
    "\n",
    "**Tarea:** Tipea una operación arimética básica."
   ]
  },
  {
   "cell_type": "code",
   "execution_count": null,
   "metadata": {
    "collapsed": false
   },
   "outputs": [],
   "source": []
  },
  {
   "cell_type": "markdown",
   "metadata": {},
   "source": [
    "Como puedes ver, R imprime el resultado de la operación dada. Sin embargo, R es un lenguaje de  programación y a menudo la razón por la que usamos un lenguaje de programación (en vez de una calculadora) es para automatizar algunos procesos o evitar repeticiones innecesarias.\n",
    "\n",
    "En este caso, podríamos querer usar nuestro resultado anterior en un segundo cálculo. En vez de retipearla operación cada vez que lo necesitemos, podemos simplemente crear una nueva variable que almacene ese resultado. La forma en que asignas un valor a una variable en R es mediante el operador de asignación, que es simplemente un símbolo de \"menos que\" seguido por un signo \"menos\". Se ve así: `<-` Piensa en el operador de asignación como si fuese una flecha. Estás asignando el valor del lado derecho de la flecha al nombre de la variable en el lado izquierdo de la flecha.\n",
    "\n",
    "**Tarea:** Asigna la operación a una variable llamada `x`."
   ]
  },
  {
   "cell_type": "code",
   "execution_count": null,
   "metadata": {
    "collapsed": true
   },
   "outputs": [],
   "source": []
  },
  {
   "cell_type": "markdown",
   "metadata": {},
   "source": [
    "R no imprime el resultado de la operación esta vez. Cuando usas el operador de asignación, R asume que no quieres ver el resultado inmediatamente, sino que pretendes usar el resultado para algo más adelante. Para visualizar el contenido de la variable, simplemente tipea el nombre de la variable y presiona Enter.\n",
    "\n",
    "**Tarea:** Imprime el resultado contenido en la variable `x`."
   ]
  },
  {
   "cell_type": "code",
   "execution_count": null,
   "metadata": {
    "collapsed": false
   },
   "outputs": [],
   "source": []
  },
  {
   "cell_type": "markdown",
   "metadata": {},
   "source": [
    "**Tarea:** almacena el resultado de `x - 3` en una nueva variable llamada `y`."
   ]
  },
  {
   "cell_type": "code",
   "execution_count": null,
   "metadata": {
    "collapsed": true
   },
   "outputs": [],
   "source": []
  },
  {
   "cell_type": "markdown",
   "metadata": {},
   "source": [
    "**Tarea:** Imprime el contenido de `y`."
   ]
  },
  {
   "cell_type": "code",
   "execution_count": null,
   "metadata": {
    "collapsed": true
   },
   "outputs": [],
   "source": []
  },
  {
   "cell_type": "markdown",
   "metadata": {},
   "source": [
    "Ahora, vamos a crear una colección de números (i.e., vector). Los vectores numéricos son la forma más simple de estructurar datos en R. La forma más sencilla de crear un vector es con la función `c()`, que hace referencia a *concatenar*. Cada elemento dentro de `c()` debe estar separado por una coma.\n",
    "\n",
    "**Tarea:** Crea un vector numérico conteniendo al menos 2 elementos (pueden ser más) y asignalo a `z`."
   ]
  },
  {
   "cell_type": "code",
   "execution_count": null,
   "metadata": {
    "collapsed": true
   },
   "outputs": [],
   "source": []
  },
  {
   "cell_type": "markdown",
   "metadata": {},
   "source": [
    "**Tarea:** Imprime el contenido de `z`."
   ]
  },
  {
   "cell_type": "code",
   "execution_count": null,
   "metadata": {
    "collapsed": true
   },
   "outputs": [],
   "source": []
  },
  {
   "cell_type": "markdown",
   "metadata": {},
   "source": [
    "Puedes combinar vectores para crear nuevos vectores, usando la misma función `c()` e ingresando el vector previo como elemento del nuevo vector.\n",
    "\n",
    "**Tarea:** Crea un nuevo vector conteniendo `z` y al menos otro elemento numérico, sin almacenarlo."
   ]
  },
  {
   "cell_type": "code",
   "execution_count": null,
   "metadata": {
    "collapsed": true
   },
   "outputs": [],
   "source": []
  },
  {
   "cell_type": "markdown",
   "metadata": {},
   "source": [
    "Los vectores numéricos pueden ser utilizados también en operaciones aritméticas y algebraicas, igual que si fuese un elemento más de la operación.\n",
    "\n",
    "**Tarea:** Multiplica `z` por `2` y sumale `100`, sin asignar el resultado a una variable."
   ]
  },
  {
   "cell_type": "code",
   "execution_count": null,
   "metadata": {
    "collapsed": true
   },
   "outputs": [],
   "source": []
  },
  {
   "cell_type": "markdown",
   "metadata": {},
   "source": [
    "El resultado que observas es consecuencia de la forma de ejecutar operaciones en R. Esta forma de ejecución se denomina *vectorizada*, ya que la operación indicada se ejecuta en cada elemento del vector."
   ]
  },
  {
   "cell_type": "code",
   "execution_count": null,
   "metadata": {
    "collapsed": true
   },
   "outputs": [],
   "source": []
  },
  {
   "cell_type": "markdown",
   "metadata": {},
   "source": [
    "Además de los operadores aritméticos previos, otros operadores comunes son `^` y `%`. En R, el símbolo de intercalación `^` corresponde al operador de exponenciación, mientras que el símbolo de porcentaje `%` corresponde al operador módulo.\n",
    "\n",
    "**Tarea:** Prueba distintas operaciones aritméticas con los operadores `^` y `%`, sin almacenar los resultados."
   ]
  },
  {
   "cell_type": "code",
   "execution_count": null,
   "metadata": {
    "collapsed": true
   },
   "outputs": [],
   "source": []
  },
  {
   "cell_type": "markdown",
   "metadata": {},
   "source": [
    "Funciones aritméticas adicionales requieren el uso de funciones específicas. Por ejemplo, para hallar la raíz cuadrada se usa la función `sqrt()` y para hallar el valor absoluto se usa la función `abs()`.\n",
    "\n",
    "**Tarea:** Halla la raíz cuadrada de `z - 1` y asigna el resultado a `raiz_c`."
   ]
  },
  {
   "cell_type": "code",
   "execution_count": null,
   "metadata": {
    "collapsed": true
   },
   "outputs": [],
   "source": []
  },
  {
   "cell_type": "markdown",
   "metadata": {},
   "source": [
    "Antes de imprimir el contenido de `raiz_c`, piensa en cuál de los siguientes escenarios es el esperable que se corresponda con este contenido:\n",
    "- Un vector de longitud 0 (i.e., un vector vacío)\n",
    "- Un vector de longitud 1 (i.e., un único número)\n",
    "- Un vector de longitud 2 o más\n",
    "\n",
    "**Tarea:** Imprime el contenido de `raiz_c`."
   ]
  },
  {
   "cell_type": "code",
   "execution_count": null,
   "metadata": {
    "collapsed": true
   },
   "outputs": [],
   "source": []
  },
  {
   "cell_type": "markdown",
   "metadata": {},
   "source": [
    "Ahora, crea un nuevo vector `div` que contenga el valor de `z` dividido por `raiz_c`.\n",
    "\n",
    "**Tarea:** Crea `div`."
   ]
  },
  {
   "cell_type": "code",
   "execution_count": null,
   "metadata": {
    "collapsed": true
   },
   "outputs": [],
   "source": []
  },
  {
   "cell_type": "markdown",
   "metadata": {},
   "source": [
    "Antes de imprimir el contenido de `div`, piensa en cuál de los siguientes escenarios es el esperable que se corresponda con este contenido:\n",
    "- Un vector de longitud 2 o más\n",
    "- Un vector de longitud 1 (i.e., un único número)\n",
    "- Un vector de longitud 0 (i.e., un vector vacío)\n",
    "\n",
    "**Tarea:** Imprime el contenido de `div`."
   ]
  },
  {
   "cell_type": "code",
   "execution_count": null,
   "metadata": {
    "collapsed": true
   },
   "outputs": [],
   "source": []
  },
  {
   "cell_type": "markdown",
   "metadata": {},
   "source": [
    "En este caso, las operaciones vectorizadas ocurren en vectores de la misma longitud, por lo que se obtienen vectores resultantes de la misma longitud. Para aclarar mejor este concepto (y ver qué pasa cuando los vectores involucrados tienen longitudes diferentes) construyamos 3 vectores:\n",
    "- `v2`, conteniendo 2 elementos numéricos\n",
    "- `v3`, conteniendo 3 elementos numéricos\n",
    "- `v4`, conteniendo 4 elementos numéricos\n",
    "\n",
    "**Tarea:** Construye `v2`, `v3` y `v4` siguiendo las indicaciones dadas."
   ]
  },
  {
   "cell_type": "code",
   "execution_count": null,
   "metadata": {
    "collapsed": true
   },
   "outputs": [],
   "source": []
  },
  {
   "cell_type": "markdown",
   "metadata": {},
   "source": [
    "Piensa en cuál de los siguientes escenarios es el esperable que se corresponda con la suma de `v2` más `v4`. Luego, ejecuta la operación en la consola e interpreta el resultado.\n",
    "\n",
    "**Tarea:** Suma `v2` y `v4`."
   ]
  },
  {
   "cell_type": "code",
   "execution_count": null,
   "metadata": {
    "collapsed": true
   },
   "outputs": [],
   "source": []
  },
  {
   "cell_type": "markdown",
   "metadata": {},
   "source": [
    "Ahora, haz lo mismo con `v4` y `v3`. Interpreta el resultado."
   ]
  },
  {
   "cell_type": "code",
   "execution_count": null,
   "metadata": {
    "collapsed": true
   },
   "outputs": [],
   "source": []
  },
  {
   "cell_type": "markdown",
   "metadata": {},
   "source": [
    "En este caso, R igual ejecuta la operación, pero te da un mensaje de advertencia (`Warning message:`) acerca de las longitudes desiguales de los vectores involucrados. Los mensajes de advertencia en R indican que la operación o función indicada se ha podido ejecutar, pero algo extraño o inusual ha sucedido. Depende del usuario evaluar si lo indicado en el mensaje de advertencia invalida o no los resultados obtenidos."
   ]
  },
  {
   "cell_type": "markdown",
   "metadata": {},
   "source": [
    "Antes de concluir la lección, revisemos el sistema de ayuda de R. Muchas veces vas a encontrarte con funciones sobre las que quieres conocer más. En estos casos, puedes abrir el archivo de ayuda ya sea tipeando `help(fun)` o `?fun`, donde `fun` es el nombre de la función en cuestión.\n",
    "\n",
    "**Tarea:** Abre el archivo de ayuda para la función `c()`."
   ]
  },
  {
   "cell_type": "code",
   "execution_count": null,
   "metadata": {
    "collapsed": false
   },
   "outputs": [],
   "source": []
  },
  {
   "cell_type": "markdown",
   "metadata": {},
   "source": [
    "Con esto terminamos la Lección 1 acerca de los bloques básicos de construcción de objetos en R. En la siguiente lección veremos cómo administrar archivos y el espacio de trabajo usando R."
   ]
  }
 ],
 "metadata": {
  "kernelspec": {
   "display_name": "R",
   "language": "R",
   "name": "ir"
  },
  "language_info": {
   "codemirror_mode": "r",
   "file_extension": ".r",
   "mimetype": "text/x-r-source",
   "name": "R",
   "pygments_lexer": "r",
   "version": "3.2.2"
  }
 },
 "nbformat": 4,
 "nbformat_minor": 0
}
