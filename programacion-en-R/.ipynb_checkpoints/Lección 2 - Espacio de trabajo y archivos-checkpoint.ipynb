{
 "cells": [
  {
   "cell_type": "markdown",
   "metadata": {},
   "source": [
    "## Espacio de trabajo y archivos\n",
    "\n",
    "Bienvenido a la Lección 2 de nuestro Curso de Programación en R! En esta lección aprenderás cómo examinar tu espacio de trabajo local usando R. Asismo, comenzarás a explorar la relación entre tu espacio de trabajo y el sistema de archivos de tu computadora.\n",
    "\n",
    "Sistemas operativos diferentes tienen diferentes convenciones con respecto a propiedades tales como las rutas del sistema de archivos. Por ello, los resultados de estos comandos pueden variar de una computadora a otra.\n",
    "\n",
    "Pero no te preocupes! Los comandos que usaremos funcionarán bien en cualquier sistema operativo que estés utilizando. Algunos comandos en R son los mismos a sus equivalentes en UNIX. Esta es otra razón del por qué aprender UNIX es una buena idea.\n",
    "\n",
    "Pero dejemos ya el preámbulo y vayamos directo a la acción!\n",
    "\n",
    "**Tarea:** Determina qué directorio estás usando como tu directorio de trabajo actual usando `getwd()`."
   ]
  },
  {
   "cell_type": "code",
   "execution_count": null,
   "metadata": {
    "collapsed": true
   },
   "outputs": [],
   "source": []
  },
  {
   "cell_type": "markdown",
   "metadata": {},
   "source": [
    "**Tarea:** Lista todos los objetos en tu espacio de trabajo local usando `ls()`."
   ]
  },
  {
   "cell_type": "code",
   "execution_count": null,
   "metadata": {
    "collapsed": true
   },
   "outputs": [],
   "source": []
  },
  {
   "cell_type": "markdown",
   "metadata": {},
   "source": [
    "**Tarea:** Crea una variable `x` conteniendo cualquier valor numérico y revisa nuevamente tu espacio de trabajo."
   ]
  },
  {
   "cell_type": "code",
   "execution_count": null,
   "metadata": {
    "collapsed": true
   },
   "outputs": [],
   "source": []
  },
  {
   "cell_type": "markdown",
   "metadata": {},
   "source": [
    "**Tarea:** Lista todos los archivos del directorio de tu espacio de trabajo usando `list.files()`. Asegúrate de listar *recursivamente* todos los archivos del directorio de trabajo (i.e., incluyendo los archivos en cualquier subdirectorio). Revisa la ayuda de `list.files()` si no sabes cómo. Puedes utilizar la función `args()` también."
   ]
  },
  {
   "cell_type": "code",
   "execution_count": null,
   "metadata": {
    "collapsed": true
   },
   "outputs": [],
   "source": []
  },
  {
   "cell_type": "markdown",
   "metadata": {},
   "source": [
    "Muchas veces es conveniente tomar como una \"fotografía instantánea\" del estado de un directorio antes de empezar a modificarlo. De esta manera, podremos regresarlo a su estado original si algo sale mal por el camino, o si simplemente queremos revertir todos los cambios hechos.\n",
    "\n",
    "**Tarea:** Asigna el valor del directorio de trabajo actual a una variable llamada `dir_original`."
   ]
  },
  {
   "cell_type": "code",
   "execution_count": null,
   "metadata": {
    "collapsed": true
   },
   "outputs": [],
   "source": []
  },
  {
   "cell_type": "markdown",
   "metadata": {
    "collapsed": true
   },
   "source": [
    "Ahora vamos a crear un nuevo directorio en tu espacio de trabajo para familiarizarnos con el proceso de creación y manejo de archivos y carpetas. Llevaremos a cabo todo nuestro trabajo en este nuevo directorio y luego lo borraremos cuando hayamos terminado. Este es el análogo en R de \"Toma sólo fotografías, deja sólo huellas\".\n",
    "\n",
    "**Tarea:** Crea un nuevo directorio llamado `dir_prueba`. Si no sabes cómo, utiliza tu navegador web para encontrar la respuesta."
   ]
  },
  {
   "cell_type": "code",
   "execution_count": null,
   "metadata": {
    "collapsed": true
   },
   "outputs": [],
   "source": []
  },
  {
   "cell_type": "markdown",
   "metadata": {},
   "source": [
    "**Tarea:** Ahora cambia tu directorio de trabajo a `dir_prueba`."
   ]
  },
  {
   "cell_type": "code",
   "execution_count": null,
   "metadata": {
    "collapsed": true
   },
   "outputs": [],
   "source": []
  },
  {
   "cell_type": "markdown",
   "metadata": {},
   "source": [
    "Asimismo como puedes crear carpetas, también puedes crear archivos usando R. Recuerda que el nombre de un archivo consta habitualmente de una denominación (descriptiva, preferiblemente) y una extensión (especificada con un punto prefijo). En el caso de R, los archivos utilizan la extensión .R habitualmente.\n",
    "\n",
    "**Tarea:** Crea un archivo en tu directorio de trabajo llamado `prueba.R`; ya sabes dónde buscar ayuda si no sabes cómo hacer esto."
   ]
  },
  {
   "cell_type": "code",
   "execution_count": null,
   "metadata": {
    "collapsed": false
   },
   "outputs": [],
   "source": []
  },
  {
   "cell_type": "markdown",
   "metadata": {},
   "source": [
    "Ahora es tiempo de listar el archivo que has creado previamente.\n",
    "\n",
    "**Tarea:** Lista el contenido de tu directorio de trabajo."
   ]
  },
  {
   "cell_type": "code",
   "execution_count": null,
   "metadata": {
    "collapsed": true
   },
   "outputs": [],
   "source": []
  },
  {
   "cell_type": "markdown",
   "metadata": {},
   "source": [
    "Muchas veces, sobre todo cuando estés trabajando en procesamiento de archivos en lotes, necesitarás verificar si un archivo en particular existe o no. Verificar esto es importante sobretodo si el archivo se genera como parte del flujo de procesamiento y es requerido para un paso posterior. \n",
    "\n",
    "**Tarea:** Verifica que `prueba.R` existe en el directorio actual."
   ]
  },
  {
   "cell_type": "code",
   "execution_count": null,
   "metadata": {
    "collapsed": true
   },
   "outputs": [],
   "source": []
  },
  {
   "cell_type": "markdown",
   "metadata": {},
   "source": [
    "**Tarea:** Ahora, obtén información sobre el archivo `prueba.R`."
   ]
  },
  {
   "cell_type": "code",
   "execution_count": null,
   "metadata": {
    "collapsed": true
   },
   "outputs": [],
   "source": []
  },
  {
   "cell_type": "markdown",
   "metadata": {},
   "source": [
    "Muchas veces es necesario cambiar el nombre de un archivo. Esto puedes hacer también en R. A ver si encuentras la forma de hacerlo!\n",
    "\n",
    "**Tarea:** Cambia el nombre de `prueba.R` a `prueba2.R` usando una única función y sus argumentos respectivos."
   ]
  },
  {
   "cell_type": "code",
   "execution_count": null,
   "metadata": {
    "collapsed": true
   },
   "outputs": [],
   "source": []
  },
  {
   "cell_type": "markdown",
   "metadata": {},
   "source": [
    "Pero, qué pasa si lo que quieres es crear una copia de un archivo, para modificar la copia y mantener el original? Resuelve este acertijo!\n",
    "\n",
    "**Tarea:** Crea una copia de `prueba2.R` llamada `prueba3.R` usando una única función y sus argumentos respectivos. Luego, lista el contenido de tu directorio de trabajo para verificar que tienes ambos archivos."
   ]
  },
  {
   "cell_type": "code",
   "execution_count": null,
   "metadata": {
    "collapsed": true
   },
   "outputs": [],
   "source": []
  },
  {
   "cell_type": "markdown",
   "metadata": {},
   "source": [
    "Muchas veces necesitarás tener la información completa acerca de la localización exacta de un archivo en tu sistema. Esto se conoco como la *ruta* del archivo.\n",
    "\n",
    "**Tarea:** Haz que R imprima en pantalla la ruta completa del archivo `prueba3.R`."
   ]
  },
  {
   "cell_type": "code",
   "execution_count": null,
   "metadata": {
    "collapsed": true
   },
   "outputs": [],
   "source": []
  },
  {
   "cell_type": "markdown",
   "metadata": {},
   "source": [
    "Ahora, juguemos un poco con los directorios (a.k.a., carpetas). Ya sabes que `dir.create()` sirve para crear carpetas dentro del directorio de trabajo actual. Sin embargo, sabías que también puedes usar `dir.create()` para crear carpetas y subcarpetas dentro de esas carpetas de una sola vez? Inténtalo!\n",
    "\n",
    "**Tarea:** Dentro del directorio de trabajo actual, crea una carpeta llamada `dir_prueba2`, y una subcarpeta dentro de la misma llamada `dir_prueba3`, todo en un único comando. No te olvides de verificar que has creado ambas carpetas."
   ]
  },
  {
   "cell_type": "code",
   "execution_count": null,
   "metadata": {
    "collapsed": true
   },
   "outputs": [],
   "source": []
  },
  {
   "cell_type": "markdown",
   "metadata": {},
   "source": [
    "**Tarea:** Ahora intenta borrar la carpeta `dir_prueba2` que acabas de crear."
   ]
  },
  {
   "cell_type": "code",
   "execution_count": null,
   "metadata": {
    "collapsed": true
   },
   "outputs": [],
   "source": []
  },
  {
   "cell_type": "markdown",
   "metadata": {},
   "source": [
    "Para finalizar, regresa tu directorio de trabajo a su estado original. A estas alturas, seguro esto te será muy sencillo!\n",
    "\n",
    "**Tarea:** Restituye tu espacio de trabajo a su estado original."
   ]
  },
  {
   "cell_type": "code",
   "execution_count": null,
   "metadata": {
    "collapsed": true
   },
   "outputs": [],
   "source": []
  },
  {
   "cell_type": "markdown",
   "metadata": {},
   "source": [
    "Felicidades! Has concluido la Lección 2 de nuestro Curso de Programación en R. En esta lección has aprendido a examinar tu espacio de trabajo y a trabajar con el sistema de archivos de tu computadora, todo usando sólo R. Definitivamente vas por el camino correcto para convertirte en un experto!\n",
    "\n",
    "Antes de finalizar, revisemos las funciones que has aprendido en esta lección:\n",
    "- `getwd()`\n",
    "- `setwd()`\n",
    "- `dir.create()`\n",
    "- `unlink()`\n",
    "- `list.files()`\n",
    "- `file.create()`\n",
    "- `file.exists()`\n",
    "- `file.info()`\n",
    "- `file.rename()`\n",
    "- `file.copy()`\n",
    "- `file.path()`\n",
    "- `ls()`\n",
    "- `args()`\n",
    "\n",
    "**Tarea:** Siéntete libre de experimentar con estas funciones. Cuando sientas que ya tienes un dominio adecuado de las mismas, finaliza la lección."
   ]
  },
  {
   "cell_type": "code",
   "execution_count": null,
   "metadata": {
    "collapsed": true
   },
   "outputs": [],
   "source": []
  },
  {
   "cell_type": "markdown",
   "metadata": {},
   "source": [
    "En la siguiente lección trabajaremos con secuencias de números. Espero te consuma la ansiedad por comenzar!"
   ]
  }
 ],
 "metadata": {
  "kernelspec": {
   "display_name": "R",
   "language": "R",
   "name": "ir"
  },
  "language_info": {
   "codemirror_mode": "r",
   "file_extension": ".r",
   "mimetype": "text/x-r-source",
   "name": "R",
   "pygments_lexer": "r",
   "version": "3.2.2"
  }
 },
 "nbformat": 4,
 "nbformat_minor": 0
}
