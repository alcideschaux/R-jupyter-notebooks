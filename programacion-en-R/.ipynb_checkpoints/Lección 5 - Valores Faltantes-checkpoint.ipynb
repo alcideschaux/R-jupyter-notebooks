{
 "cells": [
  {
   "cell_type": "markdown",
   "metadata": {},
   "source": [
    "## Valores Faltantes\n",
    "En esta lección hablaremos acerca de tipo particular de datos denominados valores faltantes (\"missing values\" en inglés). En estadística, se dan valores faltantes cuando no se almacenan o registran los valores de una variable para una observación en particular.\n",
    "\n",
    "Le dedicamos toda una lección a estos valores faltantes ya que pueden tener efectos significativos en las conclusiones que se pueden extraer de nuestros datos! Por lo tanto, los valores faltantes juegan un rol importante en estadística y análisis de datos.\n",
    "\n",
    "A menudo, los valores faltantes deben ser cuidadosamente estudiados para ver si hay algún patrón subyacente o entender causa por la cual están ausentes. Esto es particularmente cierto si es que la condición de valor faltante no es un evento aleatorio, sino que se relaciona de alguna manera con la variable de interés.\n",
    "\n",
    "En R, se usa NA (\"not available\") para representar cualquier valor que no se encuentra disponible o que falta. De aqui en adelante, usaremos NA para referirnos a estos valores faltantes.\n",
    "\n",
    "**Tarea:** Crea un vector `x` que contenga por lo menos un valor faltante."
   ]
  },
  {
   "cell_type": "code",
   "execution_count": null,
   "metadata": {
    "collapsed": true
   },
   "outputs": [],
   "source": []
  },
  {
   "cell_type": "markdown",
   "metadata": {},
   "source": [
    " Cualquier operación que involucre NA generalmente da NA como resultado.\n",
    " \n",
    " **Tarea:** Multiplica `x` por 3."
   ]
  },
  {
   "cell_type": "code",
   "execution_count": null,
   "metadata": {
    "collapsed": true
   },
   "outputs": [],
   "source": []
  },
  {
   "cell_type": "markdown",
   "metadata": {
    "collapsed": true
   },
   "source": [
    "Hagamos las cosas un poco más interesantes!\n",
    "\n",
    "**Tarea:** Crea un vector `y` de 1000 números aleatorios extraídos de una distribución normal. La función `rnorm()` podría serte útil."
   ]
  },
  {
   "cell_type": "code",
   "execution_count": null,
   "metadata": {
    "collapsed": true
   },
   "outputs": [],
   "source": []
  },
  {
   "cell_type": "markdown",
   "metadata": {},
   "source": [
    "**Tarea:** Crea un vector `z` conteniendo 1000 `NA`."
   ]
  },
  {
   "cell_type": "code",
   "execution_count": null,
   "metadata": {
    "collapsed": true
   },
   "outputs": [],
   "source": []
  },
  {
   "cell_type": "markdown",
   "metadata": {},
   "source": [
    "**Tarea:** Combina los vectores `y` y `z` y selecciona 100 elementos al azar de esta combinación, almacenando el vector resultante en `x`. La función `sample()` podría serte de utilidad."
   ]
  },
  {
   "cell_type": "code",
   "execution_count": null,
   "metadata": {
    "collapsed": true
   },
   "outputs": [],
   "source": []
  },
  {
   "cell_type": "markdown",
   "metadata": {},
   "source": [
    "**Tarea:** Determina dónde están los `NA`s y almacena el vector resultante en `x_na`. La función `is.na()` podría serte útil. Imprime `x_na`."
   ]
  },
  {
   "cell_type": "code",
   "execution_count": null,
   "metadata": {
    "collapsed": true
   },
   "outputs": [],
   "source": []
  },
  {
   "cell_type": "markdown",
   "metadata": {},
   "source": [
    "**Tarea:** Calcula el número total de NAs en los datos. La función `sum()` podría serte útil."
   ]
  },
  {
   "cell_type": "code",
   "execution_count": null,
   "metadata": {
    "collapsed": true
   },
   "outputs": [],
   "source": []
  },
  {
   "cell_type": "markdown",
   "metadata": {},
   "source": [
    "Ahora que ya nos hemos encargado de NA, veamos otro tipo de valor faltante. Este tipo de valor faltante es `NaN`, iniciales de **N**ot **a** **N**umber. Es decir, `NaN` representa un valor faltante que \"no es un numero\". Se pueden generar `NaN` a traves de operaciones matematicas que arrojen resultados indefinidos.\n",
    "\n",
    "**Tarea:** Divide 0 por 0 y observa el resultado."
   ]
  },
  {
   "cell_type": "code",
   "execution_count": null,
   "metadata": {
    "collapsed": true
   },
   "outputs": [],
   "source": []
  },
  {
   "cell_type": "markdown",
   "metadata": {},
   "source": [
    "Puedes crear vectores conteniendo `NaN` del mismo modo que creaste previamente vectores conteniendo `NA`s. Vamos, solo para divertirte, crea un vector conteniendo 5 `NaN`s y 5 `NA`s.\n",
    "\n",
    "**Tarea:** Crea un vector de 10 elementos conteniendo `NA` y `NaN`, y almacena el resultado en `x_nan`. Imprime los contenidos de `x_nan`."
   ]
  },
  {
   "cell_type": "code",
   "execution_count": null,
   "metadata": {
    "collapsed": true
   },
   "outputs": [],
   "source": []
  },
  {
   "cell_type": "markdown",
   "metadata": {},
   "source": [
    "Para finalizar, ten en cuenta que todos los `NaN` son `NA`, pero no a la inversa. Pon a prueba esto con la funcion `is.nan()`.\n",
    "\n",
    "**Tarea:** Evalua `us.na()` e `is.nan()` en `x_nan` e interpreta los resultados."
   ]
  },
  {
   "cell_type": "code",
   "execution_count": null,
   "metadata": {
    "collapsed": true
   },
   "outputs": [],
   "source": []
  },
  {
   "cell_type": "markdown",
   "metadata": {},
   "source": [
    "Felicidades! Con esto finalizamos la leccion sobre valores faltantes. Como cientifico y analista de datos, tendras que lidiar con datos faltantes diariamente. Recuerda que la presencia de valores faltantes puede ser tan importante y trascendente como la presencia misma de datos. \n",
    "\n",
    "En la siguiente leccion trabajaremos subagrupando vectores, una tarea cotidiana en todo proceso de analisis de datos."
   ]
  }
 ],
 "metadata": {
  "kernelspec": {
   "display_name": "Python 2",
   "language": "python",
   "name": "python2"
  },
  "language_info": {
   "codemirror_mode": {
    "name": "ipython",
    "version": 2
   },
   "file_extension": ".py",
   "mimetype": "text/x-python",
   "name": "python",
   "nbconvert_exporter": "python",
   "pygments_lexer": "ipython2",
   "version": "2.7.11"
  }
 },
 "nbformat": 4,
 "nbformat_minor": 0
}
